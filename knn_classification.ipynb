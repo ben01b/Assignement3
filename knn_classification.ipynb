{
  "cells": [
    {
      "cell_type": "markdown",
      "metadata": {
        "id": "view-in-github",
        "colab_type": "text"
      },
      "source": [
        "<a href=\"https://colab.research.google.com/github/ben01b/Assignement3/blob/main/knn_classification.ipynb\" target=\"_parent\"><img src=\"https://colab.research.google.com/assets/colab-badge.svg\" alt=\"Open In Colab\"/></a>"
      ]
    },
    {
      "cell_type": "markdown",
      "metadata": {
        "id": "kfNYmC2jVNh2"
      },
      "source": [
        "# Assignment 3\n",
        "\n",
        "# Task 1 - Train and Evaluate a KNN Classifier on the Connect-4 Dataset"
      ]
    },
    {
      "cell_type": "markdown",
      "metadata": {
        "id": "4mxX5-kKVNh6"
      },
      "source": [
        "## 1.1 - Import the necessary libraries"
      ]
    },
    {
      "cell_type": "code",
      "execution_count": 40,
      "metadata": {
        "id": "pRHM5XYnVNh7"
      },
      "outputs": [],
      "source": [
        "# Importing the libraries\n",
        "\n",
        "# YOUR CODE HERE\n",
        "import pandas as pd\n",
        "import numpy as np\n",
        "import matplotlib.pyplot as plt\n"
      ]
    },
    {
      "cell_type": "markdown",
      "metadata": {
        "id": "bYRBwzXLVNh8"
      },
      "source": [
        "## 1.2 - Load and pre-process the dataset"
      ]
    },
    {
      "cell_type": "code",
      "execution_count": 42,
      "metadata": {
        "id": "PxNdrjZOVNh9"
      },
      "outputs": [],
      "source": [
        "data_path = './Data/connect-4.data.txt'\n",
        "import os\n",
        "import pwd\n",
        "\n",
        "column_names = ['a1', 'a2', 'a3', 'a4', 'a5', 'a6', \n",
        "                'b1', 'b2', 'b3', 'b4', 'b5', 'b6',\n",
        "                'c1', 'c2', 'c3', 'c4', 'c5', 'c6',\n",
        "                'd1', 'd2', 'd3', 'd4', 'd5', 'd6',\n",
        "                'e1', 'e2', 'e3', 'e4', 'e5', 'e6',\n",
        "                'f1', 'f2', 'f3', 'f4', 'f5', 'f6',\n",
        "                'g1', 'g2', 'g3', 'g4', 'g5', 'g6',\n",
        "                'class']\n",
        "\n",
        "# Load the data into a pandas dataframe using the column names defined above\n",
        "# YOUR CODE HERE\n",
        "\n",
        "url = 'https://raw.githubusercontent.com/cs-txst/assign-3-knn-ben01b/main/Data/connect-4.data.txt?token=GHSAT0AAAAAAB6ZDRK2A7APA7JPNT6YW7NEY7NMJXQ'\n",
        "\n",
        "#url = data_path\n",
        "df_four = pd.read_csv(url)\n",
        "\n"
      ]
    },
    {
      "cell_type": "code",
      "execution_count": 43,
      "metadata": {
        "colab": {
          "base_uri": "https://localhost:8080/"
        },
        "id": "iBSo7kgkVNh9",
        "outputId": "963e6a0b-aa15-442d-d76b-6bb3644f5390"
      },
      "outputs": [
        {
          "output_type": "stream",
          "name": "stdout",
          "text": [
            "(67556, 43)\n",
            "   b b.1 b.2 b.3 b.4 b.5 b.6 b.7 b.8 b.9  ... b.25 b.26 b.27 b.28 b.29 b.30  \\\n",
            "0  b   b   b   b   b   b   b   b   b   b  ...    b    b    b    b    b    b   \n",
            "1  b   b   b   b   b   b   o   b   b   b  ...    b    b    b    b    b    b   \n",
            "2  b   b   b   b   b   b   b   b   b   b  ...    b    b    b    b    b    b   \n",
            "3  o   b   b   b   b   b   b   b   b   b  ...    b    b    b    b    b    b   \n",
            "4  b   b   b   b   b   b   b   b   b   b  ...    b    b    b    o    b    b   \n",
            "\n",
            "  b.31 b.32 b.33  win  \n",
            "0    b    b    b  win  \n",
            "1    b    b    b  win  \n",
            "2    b    b    b  win  \n",
            "3    b    b    b  win  \n",
            "4    b    b    b  win  \n",
            "\n",
            "[5 rows x 43 columns]\n"
          ]
        }
      ],
      "source": [
        "# Print the shape of the dataframe\n",
        "# YOUR CODE HERE\n",
        "print(df_four.shape)\n",
        "\n",
        "# Show the first 5 rows of the dataframe\n",
        "# YOUR CODE HERE\n",
        "print(df_four.head(5))\n"
      ]
    },
    {
      "cell_type": "code",
      "execution_count": 44,
      "metadata": {
        "colab": {
          "base_uri": "https://localhost:8080/"
        },
        "id": "ITHZiZSxVNh-",
        "outputId": "198742f4-3c7a-4aa7-d206-980c0938da8a"
      },
      "outputs": [
        {
          "output_type": "execute_result",
          "data": {
            "text/plain": [
              "False"
            ]
          },
          "metadata": {},
          "execution_count": 44
        }
      ],
      "source": [
        "# Check for null entries\n",
        "# YOUR CODE HERE\n",
        "df_four.isnull().values.any()"
      ]
    },
    {
      "cell_type": "code",
      "execution_count": 45,
      "metadata": {
        "colab": {
          "base_uri": "https://localhost:8080/"
        },
        "id": "FcZ3xzFcVNh_",
        "outputId": "2b00b9e8-f454-4ec9-8e69-1d03abc3e320"
      },
      "outputs": [
        {
          "output_type": "execute_result",
          "data": {
            "text/plain": [
              "False"
            ]
          },
          "metadata": {},
          "execution_count": 45
        }
      ],
      "source": [
        "# Check for missing values\n",
        "# YOUR CODE HERE\n",
        "df_four.isna().values.any()"
      ]
    },
    {
      "cell_type": "markdown",
      "metadata": {
        "id": "4KQWTm1pVNh_"
      },
      "source": [
        "### Convert the class labels to numerical values\n",
        "Use the `map` function to convert the class labels to numerical values, similar to what we did in the Iris dataset."
      ]
    },
    {
      "cell_type": "code",
      "execution_count": 46,
      "metadata": {
        "colab": {
          "base_uri": "https://localhost:8080/",
          "height": 297
        },
        "id": "4OhOg2v1VNiA",
        "outputId": "4b3cf56e-1273-480c-c543-a2aaf38683cb"
      },
      "outputs": [
        {
          "output_type": "execute_result",
          "data": {
            "text/plain": [
              "       b b.1 b.2 b.3 b.4 b.5 b.6 b.7 b.8 b.9  ... b.26 b.27 b.28 b.29 b.30  \\\n",
              "67551  x   x   b   b   b   b   o   x   o   b  ...    b    b    o    o    x   \n",
              "67552  x   x   b   b   b   b   o   b   b   b  ...    b    b    o    x    o   \n",
              "67553  x   x   b   b   b   b   o   o   b   b  ...    b    b    o    x    x   \n",
              "67554  x   o   b   b   b   b   o   b   b   b  ...    b    b    o    x    o   \n",
              "67555  x   o   o   o   x   b   o   b   b   b  ...    b    b    x    b    b   \n",
              "\n",
              "      b.31 b.32 b.33   win ClassLabel  \n",
              "67551    b    b    b  loss          1  \n",
              "67552    o    x    b  draw          2  \n",
              "67553    o    b    b  loss          1  \n",
              "67554    x    x    b  draw          2  \n",
              "67555    b    b    b  draw          2  \n",
              "\n",
              "[5 rows x 44 columns]"
            ],
            "text/html": [
              "\n",
              "  <div id=\"df-e8de161d-fb28-4f87-959e-8e01814c8b5f\">\n",
              "    <div class=\"colab-df-container\">\n",
              "      <div>\n",
              "<style scoped>\n",
              "    .dataframe tbody tr th:only-of-type {\n",
              "        vertical-align: middle;\n",
              "    }\n",
              "\n",
              "    .dataframe tbody tr th {\n",
              "        vertical-align: top;\n",
              "    }\n",
              "\n",
              "    .dataframe thead th {\n",
              "        text-align: right;\n",
              "    }\n",
              "</style>\n",
              "<table border=\"1\" class=\"dataframe\">\n",
              "  <thead>\n",
              "    <tr style=\"text-align: right;\">\n",
              "      <th></th>\n",
              "      <th>b</th>\n",
              "      <th>b.1</th>\n",
              "      <th>b.2</th>\n",
              "      <th>b.3</th>\n",
              "      <th>b.4</th>\n",
              "      <th>b.5</th>\n",
              "      <th>b.6</th>\n",
              "      <th>b.7</th>\n",
              "      <th>b.8</th>\n",
              "      <th>b.9</th>\n",
              "      <th>...</th>\n",
              "      <th>b.26</th>\n",
              "      <th>b.27</th>\n",
              "      <th>b.28</th>\n",
              "      <th>b.29</th>\n",
              "      <th>b.30</th>\n",
              "      <th>b.31</th>\n",
              "      <th>b.32</th>\n",
              "      <th>b.33</th>\n",
              "      <th>win</th>\n",
              "      <th>ClassLabel</th>\n",
              "    </tr>\n",
              "  </thead>\n",
              "  <tbody>\n",
              "    <tr>\n",
              "      <th>67551</th>\n",
              "      <td>x</td>\n",
              "      <td>x</td>\n",
              "      <td>b</td>\n",
              "      <td>b</td>\n",
              "      <td>b</td>\n",
              "      <td>b</td>\n",
              "      <td>o</td>\n",
              "      <td>x</td>\n",
              "      <td>o</td>\n",
              "      <td>b</td>\n",
              "      <td>...</td>\n",
              "      <td>b</td>\n",
              "      <td>b</td>\n",
              "      <td>o</td>\n",
              "      <td>o</td>\n",
              "      <td>x</td>\n",
              "      <td>b</td>\n",
              "      <td>b</td>\n",
              "      <td>b</td>\n",
              "      <td>loss</td>\n",
              "      <td>1</td>\n",
              "    </tr>\n",
              "    <tr>\n",
              "      <th>67552</th>\n",
              "      <td>x</td>\n",
              "      <td>x</td>\n",
              "      <td>b</td>\n",
              "      <td>b</td>\n",
              "      <td>b</td>\n",
              "      <td>b</td>\n",
              "      <td>o</td>\n",
              "      <td>b</td>\n",
              "      <td>b</td>\n",
              "      <td>b</td>\n",
              "      <td>...</td>\n",
              "      <td>b</td>\n",
              "      <td>b</td>\n",
              "      <td>o</td>\n",
              "      <td>x</td>\n",
              "      <td>o</td>\n",
              "      <td>o</td>\n",
              "      <td>x</td>\n",
              "      <td>b</td>\n",
              "      <td>draw</td>\n",
              "      <td>2</td>\n",
              "    </tr>\n",
              "    <tr>\n",
              "      <th>67553</th>\n",
              "      <td>x</td>\n",
              "      <td>x</td>\n",
              "      <td>b</td>\n",
              "      <td>b</td>\n",
              "      <td>b</td>\n",
              "      <td>b</td>\n",
              "      <td>o</td>\n",
              "      <td>o</td>\n",
              "      <td>b</td>\n",
              "      <td>b</td>\n",
              "      <td>...</td>\n",
              "      <td>b</td>\n",
              "      <td>b</td>\n",
              "      <td>o</td>\n",
              "      <td>x</td>\n",
              "      <td>x</td>\n",
              "      <td>o</td>\n",
              "      <td>b</td>\n",
              "      <td>b</td>\n",
              "      <td>loss</td>\n",
              "      <td>1</td>\n",
              "    </tr>\n",
              "    <tr>\n",
              "      <th>67554</th>\n",
              "      <td>x</td>\n",
              "      <td>o</td>\n",
              "      <td>b</td>\n",
              "      <td>b</td>\n",
              "      <td>b</td>\n",
              "      <td>b</td>\n",
              "      <td>o</td>\n",
              "      <td>b</td>\n",
              "      <td>b</td>\n",
              "      <td>b</td>\n",
              "      <td>...</td>\n",
              "      <td>b</td>\n",
              "      <td>b</td>\n",
              "      <td>o</td>\n",
              "      <td>x</td>\n",
              "      <td>o</td>\n",
              "      <td>x</td>\n",
              "      <td>x</td>\n",
              "      <td>b</td>\n",
              "      <td>draw</td>\n",
              "      <td>2</td>\n",
              "    </tr>\n",
              "    <tr>\n",
              "      <th>67555</th>\n",
              "      <td>x</td>\n",
              "      <td>o</td>\n",
              "      <td>o</td>\n",
              "      <td>o</td>\n",
              "      <td>x</td>\n",
              "      <td>b</td>\n",
              "      <td>o</td>\n",
              "      <td>b</td>\n",
              "      <td>b</td>\n",
              "      <td>b</td>\n",
              "      <td>...</td>\n",
              "      <td>b</td>\n",
              "      <td>b</td>\n",
              "      <td>x</td>\n",
              "      <td>b</td>\n",
              "      <td>b</td>\n",
              "      <td>b</td>\n",
              "      <td>b</td>\n",
              "      <td>b</td>\n",
              "      <td>draw</td>\n",
              "      <td>2</td>\n",
              "    </tr>\n",
              "  </tbody>\n",
              "</table>\n",
              "<p>5 rows × 44 columns</p>\n",
              "</div>\n",
              "      <button class=\"colab-df-convert\" onclick=\"convertToInteractive('df-e8de161d-fb28-4f87-959e-8e01814c8b5f')\"\n",
              "              title=\"Convert this dataframe to an interactive table.\"\n",
              "              style=\"display:none;\">\n",
              "        \n",
              "  <svg xmlns=\"http://www.w3.org/2000/svg\" height=\"24px\"viewBox=\"0 0 24 24\"\n",
              "       width=\"24px\">\n",
              "    <path d=\"M0 0h24v24H0V0z\" fill=\"none\"/>\n",
              "    <path d=\"M18.56 5.44l.94 2.06.94-2.06 2.06-.94-2.06-.94-.94-2.06-.94 2.06-2.06.94zm-11 1L8.5 8.5l.94-2.06 2.06-.94-2.06-.94L8.5 2.5l-.94 2.06-2.06.94zm10 10l.94 2.06.94-2.06 2.06-.94-2.06-.94-.94-2.06-.94 2.06-2.06.94z\"/><path d=\"M17.41 7.96l-1.37-1.37c-.4-.4-.92-.59-1.43-.59-.52 0-1.04.2-1.43.59L10.3 9.45l-7.72 7.72c-.78.78-.78 2.05 0 2.83L4 21.41c.39.39.9.59 1.41.59.51 0 1.02-.2 1.41-.59l7.78-7.78 2.81-2.81c.8-.78.8-2.07 0-2.86zM5.41 20L4 18.59l7.72-7.72 1.47 1.35L5.41 20z\"/>\n",
              "  </svg>\n",
              "      </button>\n",
              "      \n",
              "  <style>\n",
              "    .colab-df-container {\n",
              "      display:flex;\n",
              "      flex-wrap:wrap;\n",
              "      gap: 12px;\n",
              "    }\n",
              "\n",
              "    .colab-df-convert {\n",
              "      background-color: #E8F0FE;\n",
              "      border: none;\n",
              "      border-radius: 50%;\n",
              "      cursor: pointer;\n",
              "      display: none;\n",
              "      fill: #1967D2;\n",
              "      height: 32px;\n",
              "      padding: 0 0 0 0;\n",
              "      width: 32px;\n",
              "    }\n",
              "\n",
              "    .colab-df-convert:hover {\n",
              "      background-color: #E2EBFA;\n",
              "      box-shadow: 0px 1px 2px rgba(60, 64, 67, 0.3), 0px 1px 3px 1px rgba(60, 64, 67, 0.15);\n",
              "      fill: #174EA6;\n",
              "    }\n",
              "\n",
              "    [theme=dark] .colab-df-convert {\n",
              "      background-color: #3B4455;\n",
              "      fill: #D2E3FC;\n",
              "    }\n",
              "\n",
              "    [theme=dark] .colab-df-convert:hover {\n",
              "      background-color: #434B5C;\n",
              "      box-shadow: 0px 1px 3px 1px rgba(0, 0, 0, 0.15);\n",
              "      filter: drop-shadow(0px 1px 2px rgba(0, 0, 0, 0.3));\n",
              "      fill: #FFFFFF;\n",
              "    }\n",
              "  </style>\n",
              "\n",
              "      <script>\n",
              "        const buttonEl =\n",
              "          document.querySelector('#df-e8de161d-fb28-4f87-959e-8e01814c8b5f button.colab-df-convert');\n",
              "        buttonEl.style.display =\n",
              "          google.colab.kernel.accessAllowed ? 'block' : 'none';\n",
              "\n",
              "        async function convertToInteractive(key) {\n",
              "          const element = document.querySelector('#df-e8de161d-fb28-4f87-959e-8e01814c8b5f');\n",
              "          const dataTable =\n",
              "            await google.colab.kernel.invokeFunction('convertToInteractive',\n",
              "                                                     [key], {});\n",
              "          if (!dataTable) return;\n",
              "\n",
              "          const docLinkHtml = 'Like what you see? Visit the ' +\n",
              "            '<a target=\"_blank\" href=https://colab.research.google.com/notebooks/data_table.ipynb>data table notebook</a>'\n",
              "            + ' to learn more about interactive tables.';\n",
              "          element.innerHTML = '';\n",
              "          dataTable['output_type'] = 'display_data';\n",
              "          await google.colab.output.renderOutput(dataTable, element);\n",
              "          const docLink = document.createElement('div');\n",
              "          docLink.innerHTML = docLinkHtml;\n",
              "          element.appendChild(docLink);\n",
              "        }\n",
              "      </script>\n",
              "    </div>\n",
              "  </div>\n",
              "  "
            ]
          },
          "metadata": {},
          "execution_count": 46
        }
      ],
      "source": [
        "# Converting the class labels to numerical values\n",
        "\n",
        "label_dict = {\n",
        "    'win':0,\n",
        "    'loss':1,\n",
        "    'draw':2 \n",
        "    }\n",
        "\n",
        "# YOUR CODE HERE\n",
        "\n",
        "#df_four = df_four.applymap(lambda x: transf(x))\n",
        "#print(df_four)\n",
        "\n",
        "df_four['ClassLabel'] = df_four['win'].map(label_dict)\n",
        "df_four.tail()"
      ]
    },
    {
      "cell_type": "code",
      "execution_count": 47,
      "metadata": {
        "colab": {
          "base_uri": "https://localhost:8080/",
          "height": 281
        },
        "id": "uyMk7uV_VNiA",
        "outputId": "a2fe5be0-a04b-4fd8-e20b-534604390118"
      },
      "outputs": [
        {
          "output_type": "display_data",
          "data": {
            "text/plain": [
              "<Figure size 432x288 with 1 Axes>"
            ],
            "image/png": "[encoded data removed]"
          },
          "metadata": {
            "needs_background": "light"
          }
        }
      ],
      "source": [
        "# Show a histogram of the class labels. Use the 'class' column for this. \n",
        "\n",
        "# YOUR CODE HERE\n",
        "df_four.iloc[:,-1:].hist(bins = 3)\n",
        "plt.yticks(np.arange(0, 15, 1))\n",
        "plt.xticks(np.arange(0, 3, 1))\n",
        "\n",
        "plt.show()\n"
      ]
    },
    {
      "cell_type": "markdown",
      "metadata": {
        "id": "IKJ0CtxOVNiB"
      },
      "source": [
        "### Convert the attributes to numerical values\n",
        "\n",
        "Use the `applymap` function and a `lambda` function to convert the attributes to numerical values."
      ]
    },
    {
      "cell_type": "code",
      "execution_count": 48,
      "metadata": {
        "colab": {
          "base_uri": "https://localhost:8080/"
        },
        "id": "PwqDd_gYVNiB",
        "outputId": "b882e589-e5fb-4666-c97d-c8b5d42aefa3"
      },
      "outputs": [
        {
          "output_type": "stream",
          "name": "stdout",
          "text": [
            "       b  b.1  b.2  b.3  b.4  b.5  b.6  b.7  b.8  b.9  ...  b.26  b.27  b.28  \\\n",
            "0      2    2    2    2    2    2    2    2    2    2  ...     2     2     2   \n",
            "1      2    2    2    2    2    2    1    2    2    2  ...     2     2     2   \n",
            "2      2    2    2    2    2    2    2    2    2    2  ...     2     2     2   \n",
            "3      1    2    2    2    2    2    2    2    2    2  ...     2     2     2   \n",
            "4      2    2    2    2    2    2    2    2    2    2  ...     2     2     1   \n",
            "...   ..  ...  ...  ...  ...  ...  ...  ...  ...  ...  ...   ...   ...   ...   \n",
            "67551  0    0    2    2    2    2    1    0    1    2  ...     2     2     1   \n",
            "67552  0    0    2    2    2    2    1    2    2    2  ...     2     2     1   \n",
            "67553  0    0    2    2    2    2    1    1    2    2  ...     2     2     1   \n",
            "67554  0    1    2    2    2    2    1    2    2    2  ...     2     2     1   \n",
            "67555  0    1    1    1    0    2    1    2    2    2  ...     2     2     0   \n",
            "\n",
            "       b.29  b.30  b.31  b.32  b.33  win  ClassLabel  \n",
            "0         2     2     2     2     2    0           0  \n",
            "1         2     2     2     2     2    0           0  \n",
            "2         2     2     2     2     2    0           0  \n",
            "3         2     2     2     2     2    0           0  \n",
            "4         2     2     2     2     2    0           0  \n",
            "...     ...   ...   ...   ...   ...  ...         ...  \n",
            "67551     1     0     2     2     2    1           1  \n",
            "67552     0     1     1     0     2    2           2  \n",
            "67553     0     0     1     2     2    1           1  \n",
            "67554     0     1     0     0     2    2           2  \n",
            "67555     2     2     2     2     2    2           2  \n",
            "\n",
            "[67556 rows x 44 columns]\n"
          ]
        }
      ],
      "source": [
        "# attribute map\n",
        "attribute_dict = {\n",
        "    'x':0,\n",
        "    'o':1,\n",
        "    'b':2\n",
        "    }\n",
        "\n",
        "# YOUR CODE HERE\n",
        "def transf(x):\n",
        "  if x == 'x':\n",
        "    return 0\n",
        "  elif x == 'o':\n",
        "    return 1\n",
        "  elif x == 'b':\n",
        "    return 2\n",
        "  elif x == 'win':\n",
        "    return 0\n",
        "  elif x == 'loss':\n",
        "    return 1\n",
        "  elif x == 'draw':\n",
        "    return 2\n",
        "  else:\n",
        "    return x\n",
        "\n",
        "\n",
        "df_four = df_four.applymap(lambda x: transf(x))\n",
        "print(df_four)"
      ]
    },
    {
      "cell_type": "markdown",
      "metadata": {
        "id": "VrVYX3f7VNiB"
      },
      "source": [
        "## 1.3 - Split the dataset into training and testing sets"
      ]
    },
    {
      "cell_type": "code",
      "execution_count": 50,
      "metadata": {
        "colab": {
          "base_uri": "https://localhost:8080/"
        },
        "id": "aJ14ZTJ3VNiC",
        "outputId": "882f077f-2ada-4afe-8682-eb569b290c14"
      },
      "outputs": [
        {
          "output_type": "stream",
          "name": "stdout",
          "text": [
            "[[2 2 2 ... 2 0 0]\n",
            " [2 2 2 ... 2 0 0]\n",
            " [2 2 2 ... 2 0 0]\n",
            " ...\n",
            " [0 0 2 ... 2 1 1]\n",
            " [0 1 2 ... 2 2 2]\n",
            " [0 1 1 ... 2 2 2]]\n"
          ]
        },
        {
          "output_type": "execute_result",
          "data": {
            "text/plain": [
              "0    0\n",
              "1    0\n",
              "2    0\n",
              "3    0\n",
              "4    0\n",
              "5    2\n",
              "6    0\n",
              "7    0\n",
              "8    0\n",
              "9    0\n",
              "Name: ClassLabel, dtype: int64"
            ]
          },
          "metadata": {},
          "execution_count": 50
        }
      ],
      "source": [
        "# Assign the features to a numpy matrix called X and the class labels to a numpy vector called y\n",
        "\n",
        "# YOUR CODE HERE\n",
        "#X = df_four.values\n",
        "#X[:5, :]\n",
        "X = df_four.to_numpy()\n",
        "print(X)\n",
        "y = df_four['ClassLabel']\n",
        "y[:10]"
      ]
    },
    {
      "cell_type": "code",
      "execution_count": 51,
      "metadata": {
        "id": "tqIM_oPiVNiC"
      },
      "outputs": [],
      "source": [
        "# Split the data into training and test sets. Use 30% of the data for testing and a random state of 42\n",
        "\n",
        "# YOUR CODE HERE\n",
        "from sklearn.model_selection import train_test_split\n",
        "train_ratio = .70\n",
        "\n",
        "x_train, x_test, y_train, y_test = train_test_split(X, y, test_size=1 - train_ratio)\n",
        "\n",
        "#X_train, y_train = X[:105], y[:105]\n",
        "#X_test, y_test = X[105:], y[105:]"
      ]
    },
    {
      "cell_type": "code",
      "execution_count": 53,
      "metadata": {
        "colab": {
          "base_uri": "https://localhost:8080/"
        },
        "id": "Fc-digpTVNiC",
        "outputId": "3999ba57-028f-4561-db4c-1cf574889bf1"
      },
      "outputs": [
        {
          "output_type": "stream",
          "name": "stdout",
          "text": [
            "(47289, 44)\n",
            "[[1 1 2 ... 2 0 0]\n",
            " [0 1 2 ... 2 2 2]\n",
            " [2 2 2 ... 2 0 0]\n",
            " ...\n",
            " [2 2 2 ... 2 2 2]\n",
            " [1 2 2 ... 2 1 1]\n",
            " [0 0 0 ... 2 1 1]]\n",
            "(47289,)\n",
            "21550    0\n",
            "65908    2\n",
            "52736    0\n",
            "56901    0\n",
            "27255    0\n",
            "        ..\n",
            "64190    1\n",
            "38054    0\n",
            "18956    2\n",
            "6089     1\n",
            "28715    1\n",
            "Name: ClassLabel, Length: 47289, dtype: int64\n",
            "(20267, 44)\n",
            "[[0 0 1 ... 2 0 0]\n",
            " [0 2 2 ... 2 2 2]\n",
            " [2 2 2 ... 2 0 0]\n",
            " ...\n",
            " [0 2 2 ... 2 0 0]\n",
            " [1 0 0 ... 2 1 1]\n",
            " [0 0 0 ... 2 1 1]]\n",
            "(20267,)\n",
            "15313    0\n",
            "43318    2\n",
            "57436    0\n",
            "1520     0\n",
            "42929    0\n",
            "        ..\n",
            "37245    0\n",
            "51531    1\n",
            "57671    0\n",
            "39811    1\n",
            "63323    1\n",
            "Name: ClassLabel, Length: 20267, dtype: int64\n"
          ]
        }
      ],
      "source": [
        "# Print the shapes of the training and test sets\n",
        "\n",
        "# YOUR CODE HERE\n",
        "print(x_train.shape)\n",
        "print(x_train)\n",
        "print(y_train.shape)\n",
        "print(y_train)\n",
        "print(x_test.shape)\n",
        "print(x_test)\n",
        "print(y_test.shape)\n",
        "print(y_test)"
      ]
    },
    {
      "cell_type": "markdown",
      "metadata": {
        "id": "hqNW7VBQVNiD"
      },
      "source": [
        "## 1.4 - Train and evaluate a kNN classifier\n",
        "\n",
        "Train a kNN classifier using the training set and predict the labels of the test set. Use k=1. Report the accuracy of the classifier.\n",
        "\n",
        "**Note:** As a distance metric, use the **Hamming** distance metric. Refer to the documentation of the `sklearn.neighbors.KNeighborsClassifier` class. The metric can be specified using the `metric` parameter of the `KNeighborsClassifier`, as `metric='hamming'`.\n"
      ]
    },
    {
      "cell_type": "code",
      "execution_count": 54,
      "metadata": {
        "colab": {
          "base_uri": "https://localhost:8080/"
        },
        "id": "GmpM0550VNiD",
        "outputId": "785af722-e16b-44ed-831a-4c854db390cf"
      },
      "outputs": [
        {
          "output_type": "execute_result",
          "data": {
            "text/plain": [
              "KNeighborsClassifier(metric='hamming', n_neighbors=1)"
            ]
          },
          "metadata": {},
          "execution_count": 54
        }
      ],
      "source": [
        "# Fit the KNN model to the training data\n",
        "\n",
        "# YOUR CODE HERE\n",
        "from sklearn.neighbors import KNeighborsClassifier\n",
        "from sklearn.preprocessing import StandardScaler\n",
        "knn_model = KNeighborsClassifier(n_neighbors=1, metric = 'hamming')\n",
        "knn_model.fit(x_train, y_train)\n"
      ]
    },
    {
      "cell_type": "code",
      "execution_count": 55,
      "metadata": {
        "colab": {
          "base_uri": "https://localhost:8080/"
        },
        "id": "rvrPIUCAVNiE",
        "outputId": "dfa3c754-c8ba-4a7b-fd69-6c12c5e2822e"
      },
      "outputs": [
        {
          "output_type": "stream",
          "name": "stdout",
          "text": [
            "Test set accuracy: 99.94%\n"
          ]
        }
      ],
      "source": [
        "# Evaluate the model on the test data using classification accuracy and report the results.\n",
        "# Note, this may take some time to run. It takes about 30 seconds on my machine.\n",
        "\n",
        "# YOUR CODE HERE\n",
        "y_pred = knn_model.predict(x_test)\n",
        "num_correct_predictions = (y_pred == y_test).sum()\n",
        "accuracy = (num_correct_predictions / y_test.shape[0]) * 100\n",
        "print(f'Test set accuracy: {accuracy:.2f}%')"
      ]
    },
    {
      "cell_type": "markdown",
      "metadata": {
        "id": "eKsWascvVNiE"
      },
      "source": [
        "# Task 2 - Fine tune the hyperparameter k of a kNN classifier\n",
        "\n",
        "### Split the data into training, validation and test sets, using a 60:20:20 split"
      ]
    },
    {
      "cell_type": "code",
      "execution_count": 56,
      "metadata": {
        "id": "8kCCif7aVNiF"
      },
      "outputs": [],
      "source": [
        "# Split the data into training, validation and test sets. Use a 60:20:20 split. Use a random state of 42.\n",
        "\n",
        "# YOUR CODE HERE\n",
        "from sklearn.model_selection import train_test_split\n",
        "\n",
        "train_ratio = 0.60\n",
        "validation_ratio = 0.20\n",
        "test_ratio = 0.20\n",
        "\n",
        "x_train, x_test, y_train, y_test = train_test_split(X, y, test_size=1 - train_ratio)\n",
        "x_val, x_test, y_val, y_test = train_test_split(x_test, y_test, test_size=test_ratio/(test_ratio + validation_ratio))"
      ]
    },
    {
      "cell_type": "markdown",
      "metadata": {
        "id": "vC7R894aVNiF"
      },
      "source": [
        "Print the shape of the training, validation and test sets. Check the numbers to make sure that the split is correct."
      ]
    },
    {
      "cell_type": "code",
      "execution_count": 57,
      "metadata": {
        "colab": {
          "base_uri": "https://localhost:8080/"
        },
        "id": "kfiKt8tJVNiF",
        "outputId": "ffb3cd9a-3695-4d4a-c9d3-eeb0dfd8d2fa"
      },
      "outputs": [
        {
          "output_type": "stream",
          "name": "stdout",
          "text": [
            "(40533, 44)\n",
            "(40533,)\n",
            "(13511, 44)\n",
            "(13511,)\n",
            "(13512, 44)\n",
            "(13512,)\n"
          ]
        }
      ],
      "source": [
        "# Print the shapes of the training, validation and test sets\n",
        "\n",
        "# YOUR CODE HERE\n",
        "print(x_train.shape)\n",
        "print(y_train.shape)\n",
        "print(x_val.shape)\n",
        "print(y_val.shape)\n",
        "print(x_test.shape)\n",
        "print(y_test.shape)\n"
      ]
    },
    {
      "cell_type": "markdown",
      "metadata": {
        "id": "RF0G0iaBVNiG"
      },
      "source": [
        "### Tune the value of k using the validation set\n",
        "\n",
        "Tune the value of k using the validation set for values from 1 to 30. Use the Hamming distance metric. Report the accuracy of the classifier on the validation set for each value of k. Plot the accuracy of the classifier on the validation set for each value of k. Report the value of k that gives the best accuracy on the validation set."
      ]
    },
    {
      "cell_type": "code",
      "execution_count": 59,
      "metadata": {
        "colab": {
          "base_uri": "https://localhost:8080/"
        },
        "id": "k1Wf0MMbVNiG",
        "outputId": "d9770773-8ae0-4efe-c570-b602d610f22a"
      },
      "outputs": [
        {
          "output_type": "stream",
          "name": "stdout",
          "text": [
            "Test set accuracy: 99.93%\n",
            "Test set accuracy: 99.78%\n",
            "Test set accuracy: 99.87%\n",
            "Test set accuracy: 99.80%\n",
            "Test set accuracy: 99.84%\n",
            "Test set accuracy: 99.76%\n",
            "Test set accuracy: 99.76%\n",
            "Test set accuracy: 99.75%\n",
            "Test set accuracy: 99.75%\n",
            "Test set accuracy: 99.70%\n",
            "Test set accuracy: 99.70%\n",
            "Test set accuracy: 99.73%\n",
            "Test set accuracy: 99.76%\n",
            "Test set accuracy: 99.72%\n",
            "Test set accuracy: 99.75%\n",
            "Test set accuracy: 99.73%\n",
            "Test set accuracy: 99.76%\n",
            "Test set accuracy: 99.73%\n",
            "Test set accuracy: 99.74%\n",
            "Test set accuracy: 99.76%\n",
            "Test set accuracy: 99.76%\n",
            "Test set accuracy: 99.72%\n",
            "Test set accuracy: 99.76%\n",
            "Test set accuracy: 99.78%\n",
            "Test set accuracy: 99.78%\n",
            "Test set accuracy: 99.77%\n",
            "Test set accuracy: 99.76%\n",
            "Test set accuracy: 99.78%\n",
            "Test set accuracy: 99.78%\n",
            "Test set accuracy: 99.80%\n",
            "Best accuracy: \n",
            "99.93339253996447\n",
            "\n",
            "Best n: \n",
            "1\n"
          ]
        },
        {
          "output_type": "execute_result",
          "data": {
            "text/plain": [
              "KNeighborsClassifier(n_neighbors=1)"
            ]
          },
          "metadata": {},
          "execution_count": 59
        }
      ],
      "source": [
        "# YOUR CODE HERE\n",
        "best_acc = 0\n",
        "best_n = 1\n",
        "\n",
        "for i in range(1, 31):\n",
        "    knn_model = KNeighborsClassifier(n_neighbors=i, metric = 'hamming')\n",
        "    knn_model.fit(x_train, y_train)\n",
        "\n",
        "    y_pred = knn_model.predict(x_test)\n",
        "    num_correct_predictions = (y_pred == y_test).sum()\n",
        "    accuracy = (num_correct_predictions / y_test.shape[0]) * 100\n",
        "    if accuracy > best_acc:\n",
        "      best_acc = accuracy\n",
        "      best_n = i\n",
        "    print(f'Test set accuracy: {accuracy:.2f}%')\n",
        "\n",
        "print(\"Best accuracy: \")\n",
        "print(best_acc)\n",
        "print(\"\\nBest n: \")\n",
        "print(best_n)\n",
        "\n",
        "knn_model = KNeighborsClassifier(n_neighbors=1)\n",
        "knn_model.fit(x_val, y_val)\n",
        "\n",
        "\n",
        "\n"
      ]
    },
    {
      "cell_type": "code",
      "source": [],
      "metadata": {
        "id": "8MC9qn83PfaD"
      },
      "execution_count": 59,
      "outputs": []
    },
    {
      "cell_type": "markdown",
      "metadata": {
        "id": "TLYMg8euVNiG"
      },
      "source": [
        "### Evaluate the classifier on the test set\n",
        "\n",
        "Train a kNN classifier using the training set and predict the labels of the test set. Use the value of k that gave the best accuracy on the validation set. Report the accuracy of the classifier on the test set."
      ]
    },
    {
      "cell_type": "markdown",
      "metadata": {
        "id": "0v2Hwd2LVNiG"
      },
      "source": [
        "Highest accuracy with n=1: 99.933"
      ]
    }
  ],
  "metadata": {
    "kernelspec": {
      "display_name": "tf",
      "language": "python",
      "name": "python3"
    },
    "language_info": {
      "codemirror_mode": {
        "name": "ipython",
        "version": 3
      },
      "file_extension": ".py",
      "mimetype": "text/x-python",
      "name": "python",
      "nbconvert_exporter": "python",
      "pygments_lexer": "ipython3",
      "version": "3.8.13"
    },
    "orig_nbformat": 4,
    "vscode": {
      "interpreter": {
        "hash": "f63e3a62ec1190916fbae343a873902eb59c19028644989a00d46d3a746fcb45"
      }
    },
    "colab": {
      "provenance": [],
      "toc_visible": true,
      "include_colab_link": true
    }
  },
  "nbformat": 4,
  "nbformat_minor": 0
}